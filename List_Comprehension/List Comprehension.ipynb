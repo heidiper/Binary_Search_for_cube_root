{
 "cells": [
  {
   "cell_type": "code",
   "execution_count": null,
   "metadata": {},
   "outputs": [],
   "source": [
    "n = int(input('Please enter a > 1 number : '))\n",
    "prime_number = [i for i in range(2,n)if i not in (i for j in range(2,i)if i%j == 0 )]\n",
    "print('\\nLess than',n,'prime nimber : ',prime_number)"
   ]
  }
 ],
 "metadata": {
  "language_info": {
   "name": "python"
  },
  "orig_nbformat": 4
 },
 "nbformat": 4,
 "nbformat_minor": 2
}
